{
 "cells": [
  {
   "cell_type": "code",
   "execution_count": 1,
   "id": "36691b8f-2811-4b6d-ba1e-11437a37f047",
   "metadata": {
    "editable": true,
    "slideshow": {
     "slide_type": ""
    },
    "tags": []
   },
   "outputs": [],
   "source": [
    "# requires cell_annotation environment\n",
    "import sys\n",
    "import os\n",
    "import io\n",
    "import json\n",
    "import importlib\n",
    "import numpy as np\n",
    "\n",
    "import seaborn as sns\n",
    "import pandas as pd\n",
    "\n",
    "import matplotlib\n",
    "import matplotlib.pyplot as plt\n",
    "from matplotlib.patches import Polygon\n",
    "from matplotlib.gridspec import GridSpec\n",
    "\n",
    "import annotation_utils\n",
    "import anno_class\n",
    "import core_class\n",
    "import classifier_class"
   ]
  },
  {
   "cell_type": "code",
   "execution_count": 2,
   "id": "e27802bb-b9d2-4137-8740-b0e86c4cf07f",
   "metadata": {},
   "outputs": [],
   "source": [
    "# notebook directory\n",
    "current_dir = os.getcwd()\n",
    "\n",
    "# project directory\n",
    "root_dir = os.path.abspath(os.path.join(current_dir, '..', '..'))\n",
    "os.chdir(root_dir)\n",
    "\n",
    "# for importing segmentation utils\n",
    "sys.path.append(os.path.join(root_dir, 'scripts', 'notebooks'))\n"
   ]
  },
  {
   "cell_type": "code",
   "execution_count": 3,
   "id": "fa63c9a0-6371-4af4-ad34-9b33eb49fa3f",
   "metadata": {},
   "outputs": [
    {
     "data": {
      "text/plain": [
       "(18, 2048, 2048)"
      ]
     },
     "execution_count": 3,
     "metadata": {},
     "output_type": "execute_result"
    }
   ],
   "source": [
    "markers = pd.read_csv(os.path.join(root_dir, 'example_data', 'kidney', 'raw', 'channelnames.txt'), header = None)[0]\n",
    "kidney = annotation_utils.read_ome_tiff(os.path.join(os.getcwd(), 'example_data', 'kidney', 'processed', 'normalized_kidney.tif'))\n",
    "kidney.shape # 18 colors, 2048 x 2048 pixels"
   ]
  },
  {
   "cell_type": "code",
   "execution_count": 4,
   "id": "1e5bc706-0de0-4149-b2ed-44614f9bd446",
   "metadata": {},
   "outputs": [
    {
     "data": {
      "text/plain": [
       "{'DAPI': [0, 0, 255],\n",
       " 'CD14': [1, 0, 255],\n",
       " 'CD16': [2, 0, 255],\n",
       " 'CD45RA': [3, 0, 255],\n",
       " 'CD4': [4, 0, 255],\n",
       " 'CD49a': [5, 0, 255],\n",
       " 'HLA-DR': [6, 0, 255],\n",
       " 'CD3': [7, 0, 255],\n",
       " 'CD56': [8, 0, 255],\n",
       " 'CD103': [9, 0, 255],\n",
       " 'Va72': [10, 0, 255],\n",
       " 'CD11c': [11, 0, 255],\n",
       " 'CD69': [12, 0, 255],\n",
       " 'CD8': [13, 0, 255],\n",
       " 'Ki67': [14, 0, 255],\n",
       " 'CD161': [15, 0, 255],\n",
       " 'CD163': [16, 0, 255],\n",
       " 'CD31': [17, 0, 255]}"
      ]
     },
     "execution_count": 4,
     "metadata": {},
     "output_type": "execute_result"
    }
   ],
   "source": [
    "marker_info = {marker:[i, 0, 255] for i, marker in enumerate(markers)}\n",
    "marker_info # shows range of data to be viewed"
   ]
  },
  {
   "cell_type": "code",
   "execution_count": 5,
   "id": "cfecf70d-4c17-402b-bee4-c92bedbde3e3",
   "metadata": {},
   "outputs": [],
   "source": [
    "# load back segmentations (outlines)\n",
    "outlines_path = os.path.join(root_dir, 'example_data', 'kidney', 'segmentations', 'kidney_expanded_cell_geometries.json')\n",
    "\n",
    "with open(outlines_path, 'r') as file:\n",
    "    expanded_cell_outlines = json.load(file)\n"
   ]
  },
  {
   "cell_type": "code",
   "execution_count": 6,
   "id": "5573581d-32b4-4aa9-b33d-5d19b144995f",
   "metadata": {},
   "outputs": [],
   "source": [
    "# expanded_cell_outlines[list(expanded_cell_outlines.keys())[0]] # contains negative values in y - needs to be converted"
   ]
  },
  {
   "cell_type": "code",
   "execution_count": 7,
   "id": "2c2c458f-2055-4c3c-98b0-c5c3ac7971f4",
   "metadata": {},
   "outputs": [],
   "source": [
    "# confirm outlines are as expected\n",
    "def plot_polygons(polygon_dict):\n",
    "    fig, ax = plt.subplots()\n",
    "    \n",
    "    for name, coords in polygon_dict.items():\n",
    "        x, y = coords\n",
    "        polygon = Polygon(np.column_stack([x, y]), fill = None, edgecolor = 'r', linewidth = 0.5)\n",
    "        ax.add_patch(polygon)\n",
    "    ax.autoscale()\n",
    "    ax.set_aspect('equal')\n",
    "    plt.show()\n",
    "\n",
    "# plot_polygons(expanded_cell_outlines)"
   ]
  },
  {
   "cell_type": "code",
   "execution_count": 8,
   "id": "958ffc91-9886-4bc3-bbc3-ef25b13a5420",
   "metadata": {},
   "outputs": [],
   "source": [
    "expression_path = os.path.join(root_dir, 'example_data', 'kidney', 'summaries', 'exported_kidney_cells.csv')\n",
    "exprs = pd.read_csv(expression_path)\n",
    "exprs['X_coord'] = exprs['Centroid_X'] # specifically for core class, can modify\n",
    "exprs['Y_coord'] = exprs['Centroid_Y'] \n",
    "exprs.set_index('Object.ID', inplace = True)"
   ]
  },
  {
   "cell_type": "code",
   "execution_count": 9,
   "id": "a4bc14f0-2bcc-4660-b563-465d35bdd5b7",
   "metadata": {},
   "outputs": [
    {
     "name": "stdout",
     "output_type": "stream",
     "text": [
      "(2576, 27)\n",
      "(2254, 27)\n"
     ]
    }
   ],
   "source": [
    "exprs_filt = exprs.loc[exprs['size_qc'] == 'keep',:]\n",
    "\n",
    "print(exprs.shape)\n",
    "print(exprs_filt.shape) # filtered out ~300 segmentations (12%)"
   ]
  },
  {
   "cell_type": "code",
   "execution_count": 10,
   "id": "0fc05bb4-a8c6-4e79-a5b7-4aefd794be0f",
   "metadata": {},
   "outputs": [],
   "source": [
    "my_core = core_class.core_data(expression_data = exprs_filt, \n",
    "                               image = kidney,\n",
    "                               segments = expanded_cell_outlines,\n",
    "                               core = 'A', # placeholder, if comparing multiple images (cores)\n",
    "                               marker_info = marker_info)"
   ]
  },
  {
   "cell_type": "code",
   "execution_count": 11,
   "id": "49300f4e-c9d3-40c0-8ac9-8d538879ff2f",
   "metadata": {},
   "outputs": [],
   "source": [
    "# features of interest (use a subset of dim reduction, clustering for improved sampling)\n",
    "foi = list(exprs.columns[~exprs.columns.str.contains('orig|Cent|coord|area|Objec|DAPI|size')])\n",
    "# foi"
   ]
  },
  {
   "cell_type": "code",
   "execution_count": 12,
   "id": "f3fbc605-286f-4618-aefc-12091e6d223a",
   "metadata": {
    "editable": true,
    "slideshow": {
     "slide_type": ""
    },
    "tags": []
   },
   "outputs": [
    {
     "name": "stdout",
     "output_type": "stream",
     "text": [
      "Running PCA...\n"
     ]
    }
   ],
   "source": [
    "# include states for reproducibility\n",
    "my_core.select_features(feats = foi)\n",
    "my_core.run_pca()\n",
    "my_core.run_kmeans(num_clust = 10, random_state = 5)\n",
    "my_core.run_gmm(n_components = 10, random_state = 5)\n",
    "my_core.run_leiden(resolution = 0.8, random_state = 5) \n",
    "my_core.approximate_bounds() # helps for visual imspection when training models"
   ]
  },
  {
   "cell_type": "code",
   "execution_count": 13,
   "id": "a73b3236-4091-476c-8869-7a0494f7302f",
   "metadata": {},
   "outputs": [
    {
     "name": "stderr",
     "output_type": "stream",
     "text": [
      "2025-04-07 13:44:17.765 python3.13[20903:1362072] +[IMKClient subclass]: chose IMKClient_Modern\n",
      "2025-04-07 13:44:17.765 python3.13[20903:1362072] +[IMKInputSession subclass]: chose IMKInputSession_Modern\n"
     ]
    }
   ],
   "source": [
    "def plot_multiple_markers(core_object, marker_list):\n",
    "    # Determine grid size\n",
    "    n = len(marker_list)\n",
    "    rows = cols = int(n**0.5)\n",
    "    if rows * cols < n:\n",
    "        cols += 1\n",
    "    \n",
    "    # Create figure and GridSpec\n",
    "    fig = plt.figure(figsize = (1.5*cols, 1.5*rows))\n",
    "    gs = GridSpec(rows, cols, figure = fig)\n",
    "    \n",
    "    # Plot each marker\n",
    "    for i, marker in enumerate(marker_list):\n",
    "        ax = fig.add_subplot(gs[i // cols, i % cols])\n",
    "        values = core_object.marker_info[marker]\n",
    "        ax.imshow(core_object.image[values[0], :, :], \n",
    "                  vmin=values[1], \n",
    "                  vmax=values[2],\n",
    "                  cmap=\"magma\")\n",
    "        ax.set_title(marker)\n",
    "        ax.axis('off')\n",
    "    \n",
    "    plt.tight_layout()\n",
    "    plt.show()\n",
    "\n",
    "# use image to adjust bounds\n",
    "plot_multiple_markers(core_object = my_core, marker_list = list(marker_info.keys()))\n"
   ]
  },
  {
   "cell_type": "code",
   "execution_count": 14,
   "id": "046f69f4-8701-4140-9c2d-f768a43367f0",
   "metadata": {},
   "outputs": [],
   "source": [
    "def update_marker_info(core_object, updates):\n",
    "    for marker, (vmin, vmax) in updates.items():\n",
    "        if marker in core_object.marker_info:\n",
    "            core_object.marker_info[marker] = [core_object.marker_info[marker][0], vmin, vmax]\n",
    "        else:\n",
    "            print(f\"Warning: Marker '{marker}' not found in marker_info.\")\n",
    "\n",
    "# Example usage:\n",
    "updates = {\n",
    "    'DAPI': (2, 80),\n",
    "    'CD14': (0, 80),\n",
    "    'CD16': (3, 100),\n",
    "    'CD45RA': (5, 80),\n",
    "    'CD4': (8, 80),\n",
    "    'CD49a': (10, 80),\n",
    "    'HLA-DR': (10, 100),\n",
    "    'CD3': (8, 100),\n",
    "    'CD56': (5, 85),\n",
    "    'CD103': (5, 85),\n",
    "    'Va72': (5, 80),\n",
    "    'CD11c': (5, 80),\n",
    "    'CD69': (10, 100),\n",
    "    'CD8': (5, 100),\n",
    "    'Ki67': (0, 45),\n",
    "    'CD161': (8, 80),\n",
    "    'CD163': (5, 80),\n",
    "    'CD31': (8, 80)\n",
    "}\n",
    "\n",
    "update_marker_info(my_core, updates)\n"
   ]
  },
  {
   "cell_type": "code",
   "execution_count": 15,
   "id": "16cdf425-8e0a-4625-82bd-09c6829de0c8",
   "metadata": {},
   "outputs": [],
   "source": [
    "for cluster_type in ['kmeans_10', 'leiden_0.8', 'gmm']:\n",
    "    n_clusters = len(my_core.plot_df[cluster_type].unique())\n",
    "    palette = sns.color_palette(\"tab20\", n_colors = n_clusters)\n",
    "    \n",
    "    sns.scatterplot(x = 'X_coord', \n",
    "                    y = 'Y_coord', \n",
    "                    data = my_core.plot_df, \n",
    "                    hue = cluster_type, \n",
    "                    edgecolor = 'black',\n",
    "                    linewidth = 0.2,\n",
    "                    s = 15,\n",
    "                    palette = palette)\n",
    "    \n",
    "    plt.title(f'{cluster_type}')\n",
    "    plt.legend(title = f'{cluster_type}', bbox_to_anchor = (1.05, 1), loc = 'upper left', markerscale = 3)\n",
    "    plt.tight_layout()\n",
    "    plt.show()"
   ]
  },
  {
   "cell_type": "code",
   "execution_count": 16,
   "id": "a78ae366-065a-45a2-981e-91616d7df683",
   "metadata": {},
   "outputs": [],
   "source": [
    "for cluster_type in ['kmeans_10', 'leiden_0.8', 'gmm']:\n",
    "    n_clusters = len(my_core.plot_df[cluster_type].unique())\n",
    "    palette = sns.color_palette(\"tab20\", n_colors = n_clusters)\n",
    "    \n",
    "    sns.scatterplot(x = 'PC1', \n",
    "                    y = 'PC2', \n",
    "                    data = my_core.plot_df, \n",
    "                    hue = cluster_type, \n",
    "                    edgecolor = 'black',\n",
    "                    linewidth = 0.2,\n",
    "                    s = 15,\n",
    "                    palette = palette)\n",
    "    \n",
    "    plt.title(f'{cluster_type}')\n",
    "    plt.legend(title = f'{cluster_type}', bbox_to_anchor = (1.05, 1), loc = 'upper left', markerscale = 3)\n",
    "    plt.tight_layout()\n",
    "    plt.show()"
   ]
  },
  {
   "cell_type": "code",
   "execution_count": 399,
   "id": "552bd750-4754-4c75-a314-cf84e4b61401",
   "metadata": {},
   "outputs": [],
   "source": [
    "plot_df = my_core.expression_data\n",
    "plot_df.loc[:,'leiden_0.8'] = [str(clust) for clust in my_core.plot_df['leiden_0.8']]"
   ]
  },
  {
   "cell_type": "code",
   "execution_count": 401,
   "id": "82e9d91c-eb34-403b-91b5-d5c376ec0ad1",
   "metadata": {},
   "outputs": [],
   "source": [
    "from sklearn.preprocessing import StandardScaler\n",
    "\n",
    "cell_mean_cols = [col for col in plot_df.columns if 'Cell_Mean' in col]\n",
    "df_subset = plot_df.loc[:, cell_mean_cols + ['leiden_0.8']]\n",
    "\n",
    "# Group by 'leiden_0.8' and calculate mean for each group\n",
    "grouped_df = df_subset.groupby('leiden_0.8').mean()\n",
    "\n",
    "# Standardize the grouped data using StandardScaler\n",
    "scaler = StandardScaler()\n",
    "zscored_df = pd.DataFrame(\n",
    "    scaler.fit_transform(grouped_df),\n",
    "    index=grouped_df.index,\n",
    "    columns=grouped_df.columns\n",
    ")\n",
    "plt.figure(figsize=(5, 8)) \n",
    "ax = sns.heatmap(\n",
    "    zscored_df.T,\n",
    "    cmap='vlag',  # Yellow -> Green -> Blue palette\n",
    "    center=0,\n",
    "    linewidths=.5,\n",
    "    cbar_kws={'label': 'Z-Score'},\n",
    "    yticklabels=True  # Force all row labels to show\n",
    ")\n",
    "\n",
    "# Improve label visibility\n",
    "ax.set_yticklabels(\n",
    "    ax.get_yticklabels(),\n",
    "    rotation=0,\n",
    "    fontsize=8  # Adjust font size as needed\n",
    ")\n",
    "ax.set_xticklabels(\n",
    "    ax.get_xticklabels(),\n",
    "    rotation=0,\n",
    "    ha='center',\n",
    "    fontsize=8\n",
    ")\n",
    "plt.title('Expression by Leiden_0.8', pad=10)\n",
    "plt.xlabel('Leiden Cluster', labelpad=10)\n",
    "plt.ylabel('Markers', labelpad=10)\n",
    "plt.tight_layout()\n",
    "plt.show()"
   ]
  },
  {
   "cell_type": "code",
   "execution_count": null,
   "id": "d3ffa266-f4ad-42a2-bedd-98256299f3f4",
   "metadata": {},
   "outputs": [],
   "source": []
  },
  {
   "cell_type": "code",
   "execution_count": null,
   "id": "a6589b27-f7fd-418c-8ede-0d5b7830af1d",
   "metadata": {},
   "outputs": [],
   "source": []
  },
  {
   "cell_type": "code",
   "execution_count": null,
   "id": "a20f73a3-e6d4-4b49-b3f9-6cda930d0f81",
   "metadata": {},
   "outputs": [],
   "source": []
  },
  {
   "cell_type": "code",
   "execution_count": null,
   "id": "9ee40f7d-46c9-4468-bafe-8c56e411eb4f",
   "metadata": {},
   "outputs": [],
   "source": []
  },
  {
   "cell_type": "code",
   "execution_count": 17,
   "id": "d5d3b518-6d0e-4ffa-8f15-19e459537326",
   "metadata": {},
   "outputs": [],
   "source": [
    "my_core.sampled_cells = []"
   ]
  },
  {
   "cell_type": "code",
   "execution_count": 18,
   "id": "cc45ae5d-e6b9-4a26-8807-8ec256102427",
   "metadata": {},
   "outputs": [],
   "source": [
    "my_core.cell_sampler(cluster_col = 'leiden_0.8', \n",
    "                     max_sample = 20, \n",
    "                     keep_oob = False, \n",
    "                     tolerance = 1, \n",
    "                     random_state = 11, \n",
    "                     use_fps = True) # selects 20 cells randomly for each cluster (100 total for annotations)"
   ]
  },
  {
   "cell_type": "markdown",
   "id": "6728b896-3c86-4bef-ad39-ee01ae7f39bb",
   "metadata": {
    "editable": true,
    "slideshow": {
     "slide_type": ""
    },
    "tags": []
   },
   "source": [
    "## T cell subsets\n",
    "CD3+ CD4+ T cells: Helper T cells   \n",
    "CD3+ CD8+ T cells: Cytotoxic T cells     \n",
    "CD3+ CD4+ CD45RA+: Naive helper T cells     \n",
    "CD3+ CD8+ CD45RA+: Naive cytotoxic T cells     \n",
    "CD3+ CD69+: Activated T cells  \n",
    "CD3+ CD103+: Tissue-resident memory T cells    \n",
    "CD3+ CD161+: MAIT cells or other innate-like T cells  \n",
    "\n",
    "## NK cells\n",
    "CD3- CD56+: Natural killer cells  \n",
    "CD3- CD56+ CD16+: Cytotoxic NK cells  \n",
    "\n",
    "## Myeloid subsets\n",
    "CD14+ CD16-: Classical monocytes  \n",
    "CD14+ CD16+: Non-classical monocytes  \n",
    "CD14+ HLA-DR+: Activated monocytes/macrophages  \n",
    "CD11c+ HLA-DR+: Dendritic cells  \n",
    "CD163+: M2-like macrophages  \n",
    "\n",
    "## Other cell types\n",
    "CD31+: Endothelial cells  \n",
    "Ki67+: Proliferating cells (can be present in any cell type)  \n",
    "\n",
    "## Specific subsets\n",
    "CD4+ CD49a+: Tissue-resident helper T cells  \n",
    "CD8+ CD103+: Tissue-resident cytotoxic T cells  \n",
    "CD14+ CD16+ HLA-DR+: Intermediate monocytes  \n",
    "CD11c+ CD103+: CD103+ dendritic cells  "
   ]
  },
  {
   "cell_type": "code",
   "execution_count": 47,
   "id": "bdf09a21-3bc5-4301-9731-489fd73ef5c0",
   "metadata": {
    "editable": true,
    "slideshow": {
     "slide_type": ""
    },
    "tags": []
   },
   "outputs": [],
   "source": [
    "my_core.annotate(show_markers = ['DAPI', 'CD31', 'CD103', 'CD3', \n",
    "                                 'CD4', 'CD8', 'CD69', 'CD45RA', \n",
    "                                 'CD11c', 'CD14', 'CD16', 'CD161',\n",
    "                                'CD163', 'HLA-DR', 'CD56', 'Va72'],\n",
    "                 cell_types = ['Stromal', 'CD4_T', 'CD8_T', \n",
    "                               'NK', 'Mac_CD163','MAIT', \n",
    "                               'Myeloid', 'DC', 'unclassified', 'bad'])"
   ]
  },
  {
   "cell_type": "code",
   "execution_count": 352,
   "id": "8fc8fa06-acbc-4180-aecd-747657f06a9b",
   "metadata": {
    "editable": true,
    "slideshow": {
     "slide_type": ""
    },
    "tags": []
   },
   "outputs": [],
   "source": [
    "df = pd.DataFrame.from_dict(my_core.annotations, orient = 'index', columns = ['CellType'])\n",
    "\n",
    "# Reset the index and rename it\n",
    "df = df.reset_index().rename(columns={'index': 'Object.ID'})\n",
    "df.set_index('Object.ID', inplace = True)\n",
    "\n",
    "# df.to_csv(os.path.join(root_dir, 'example_data', 'kidney', 'temp_annotations', 'annos.csv'))"
   ]
  },
  {
   "cell_type": "code",
   "execution_count": 367,
   "id": "d836c12f-22a2-4c46-be3c-af796d407e13",
   "metadata": {},
   "outputs": [],
   "source": [
    "# read back in annotaions:\n",
    "anno = pd.read_csv(os.path.join(root_dir, 'example_data', 'kidney', 'temp_annotations', 'annos.csv'))\n",
    "anno.loc[anno['CellType'] == 'unlcassified','CellType'] = 'Unclassified'\n",
    "\n",
    "anno.set_index('Object.ID', inplace = True)\n",
    "\n",
    "overwrite_annos = {k:v for k, v in zip(anno.index, anno.loc[:,'CellType'])}\n",
    "my_core.annotations = overwrite_annos"
   ]
  },
  {
   "cell_type": "code",
   "execution_count": 368,
   "id": "9a2b00fc-88df-4a31-ae8c-ee43c6ebba27",
   "metadata": {
    "editable": true,
    "slideshow": {
     "slide_type": ""
    },
    "tags": []
   },
   "outputs": [],
   "source": [
    "#my_core.expression_data\n",
    "my_classifier = classifier_class.classify_cells(core_class = my_core)\n"
   ]
  },
  {
   "cell_type": "code",
   "execution_count": 369,
   "id": "b5340f41-afa9-479e-83cb-ae26f0a6be2d",
   "metadata": {
    "editable": true,
    "slideshow": {
     "slide_type": ""
    },
    "tags": []
   },
   "outputs": [
    {
     "name": "stdout",
     "output_type": "stream",
     "text": [
      "\n",
      "Initial Class Counts:\n",
      "annotations\n",
      "Unclassified    26\n",
      "CD8_T           24\n",
      "Myeloid         23\n",
      "CD4_T           14\n",
      "NK               8\n",
      "MAIT             8\n",
      "Mac_CD163        1\n",
      "Stromal          1\n",
      "Name: count, dtype: int64\n",
      "  Warning: Class Mac_CD163 has too few samples. SMOTE will not be applied.\n",
      "  Warning: Class Stromal has too few samples. SMOTE will not be applied.\n",
      "\n",
      "Class Counts after filtering classes with < 2 samples:\n",
      "annotations\n",
      "Unclassified    26\n",
      "CD8_T           24\n",
      "Myeloid         23\n",
      "CD4_T           14\n",
      "MAIT             8\n",
      "NK               8\n",
      "Name: count, dtype: int64\n",
      "\n",
      "Class counts in y_train after train_test_split:\n",
      "annotations\n",
      "Unclassified    13\n",
      "CD8_T           12\n",
      "Myeloid         12\n",
      "CD4_T            7\n",
      "MAIT             4\n",
      "NK               4\n",
      "Name: count, dtype: int64\n",
      "\n",
      "Class counts in y_test after train_test_split:\n",
      "annotations\n",
      "Unclassified    13\n",
      "CD8_T           12\n",
      "Myeloid         11\n",
      "CD4_T            7\n",
      "MAIT             4\n",
      "NK               4\n",
      "Name: count, dtype: int64\n",
      "min class count 4\n",
      "\n",
      "Applying SMOTE to the entire *training* set with k_neighbors=3\n",
      "\n",
      "SMOTE applied successfully to the entire *training* set.\n",
      "\n",
      "Class counts in y_train after SMOTE:\n",
      "annotations\n",
      "CD4_T           13\n",
      "CD8_T           13\n",
      "MAIT            13\n",
      "Myeloid         13\n",
      "NK              13\n",
      "Unclassified    13\n",
      "Name: count, dtype: int64\n",
      "Model Accuracy: 0.92\n",
      "\n",
      "Classification Report:\n",
      "              precision    recall  f1-score   support\n",
      "\n",
      "       CD4_T       1.00      1.00      1.00         7\n",
      "       CD8_T       0.92      1.00      0.96        12\n",
      "        MAIT       1.00      1.00      1.00         4\n",
      "     Myeloid       1.00      0.82      0.90        11\n",
      "          NK       0.75      0.75      0.75         4\n",
      "Unclassified       0.86      0.92      0.89        13\n",
      "\n",
      "    accuracy                           0.92        51\n",
      "   macro avg       0.92      0.92      0.92        51\n",
      "weighted avg       0.93      0.92      0.92        51\n",
      "\n"
     ]
    }
   ],
   "source": [
    "params = my_classifier.expression_data.columns.str.contains('Cell')\n",
    "my_classifier.train(use_params = my_classifier.expression_data.columns[params], \n",
    "                    use_smote = True, \n",
    "                    split = 0.5, \n",
    "                    use_imbalanced_rf = True)\n",
    "my_classifier.fit()"
   ]
  },
  {
   "cell_type": "code",
   "execution_count": 372,
   "id": "817e044e-5361-4aba-aa56-f98e175bbd1b",
   "metadata": {
    "editable": true,
    "slideshow": {
     "slide_type": ""
    },
    "tags": []
   },
   "outputs": [],
   "source": [
    "plot_data = pd.DataFrame(\n",
    "    {'pc1': my_classifier.plot_data['PC1'],\n",
    "     'pc2': my_classifier.plot_data['PC2'],  \n",
    "     'x': my_classifier.plot_data['X_coord'], \n",
    "     'y': my_classifier.plot_data['Y_coord'],\n",
    "     'prediction':my_classifier.expression_data['predicted_annotation']})\n",
    "\n",
    "# Create the scatter plot using Seaborn\n",
    "fig, ax = plt.subplots(figsize = (8, 5)) #create figure and axes objects.\n",
    "scatter = sns.scatterplot(data = plot_data, x = 'x', y = 'y', hue = 'prediction', ax = ax)\n",
    "ax.legend(title='Cell Type', bbox_to_anchor=(1.05, 1), loc='upper left')\n",
    "plt.tight_layout(rect=[0, 0, 0.9, 1]) # Adjust the right boundary\n",
    "plt.show()"
   ]
  },
  {
   "cell_type": "code",
   "execution_count": 373,
   "id": "6014233f-b727-43a0-83a1-c91fea096340",
   "metadata": {},
   "outputs": [],
   "source": [
    "# Create the scatter plot using Seaborn\n",
    "fig, ax = plt.subplots(figsize = (8, 5)) #create figure and axes objects.\n",
    "scatter = sns.scatterplot(data = plot_data, x = 'pc1', y = 'pc2', hue = 'prediction', ax = ax)\n",
    "ax.legend(title='Cell Type', bbox_to_anchor=(1.05, 1), loc='upper left')\n",
    "plt.tight_layout(rect=[0, 0, 0.9, 1]) # Adjust the right boundary\n",
    "plt.show()"
   ]
  },
  {
   "cell_type": "code",
   "execution_count": 374,
   "id": "6e967db3-089e-458d-8441-8d84deccaf6e",
   "metadata": {},
   "outputs": [],
   "source": [
    "probs = my_classifier.expression_data.loc[:, my_classifier.expression_data.columns.str.contains('prob')]\n",
    "\n",
    "unique_classes = my_classifier.expression_data.loc[:, 'predicted_annotation'].unique()\n",
    "palette = dict(zip(unique_classes, sns.color_palette(\"tab10\", n_colors=len(unique_classes))))\n",
    "row_colors = my_classifier.expression_data.loc[:,'predicted_annotation'].map(palette)\n",
    "row_colors.name = ''"
   ]
  },
  {
   "cell_type": "code",
   "execution_count": 375,
   "id": "8a7759c6-75a1-4b8d-91e7-9bb84d371a78",
   "metadata": {},
   "outputs": [
    {
     "name": "stderr",
     "output_type": "stream",
     "text": [
      "/Applications/anaconda3/envs/cell_annotations/lib/python3.13/site-packages/seaborn/matrix.py:560: UserWarning: Clustering large matrix with scipy. Installing `fastcluster` may give better performance.\n",
      "  warnings.warn(msg)\n",
      "/Applications/anaconda3/envs/cell_annotations/lib/python3.13/site-packages/seaborn/matrix.py:560: UserWarning: Clustering large matrix with scipy. Installing `fastcluster` may give better performance.\n",
      "  warnings.warn(msg)\n"
     ]
    }
   ],
   "source": [
    "# Compact clustermap layout\n",
    "clustermap = sns.clustermap(\n",
    "    probs,\n",
    "    annot = False,\n",
    "    cmap = 'mako',\n",
    "    fmt = \".3f\",\n",
    "    yticklabels = False,\n",
    "    row_colors = row_colors,\n",
    "    cbar_kws = {'orientation': 'horizontal'},\n",
    "    figsize = (6, 6),  # Compact overall figure size\n",
    "    dendrogram_ratio = (0.3, 0.05),  # Shrink dendrograms further\n",
    "    colors_ratio = 0.04  # Thinner row color strip\n",
    ")\n",
    "\n",
    "\n",
    "# Compact legend (left side)\n",
    "handles = [plt.Line2D([0], [0], color = color, label = label, lw = 5) \n",
    "           for label, color in palette.items()]\n",
    "\n",
    "legend = clustermap.ax_heatmap.legend(\n",
    "    handles = handles,\n",
    "    title = 'Cell Types',\n",
    "    bbox_to_anchor = (1.3, 1),  # Move closer to heatmap\n",
    "    prop = {'size': 5},  # Smaller text size\n",
    "    frameon = True,\n",
    "    title_fontsize = 6\n",
    ")\n",
    "plt.setp(clustermap.ax_heatmap.get_xticklabels(), rotation = 45, ha = \"right\")\n",
    "\n",
    "# Adjust colorbar tick labels\n",
    "clustermap.ax_cbar.tick_params(labelsize = 10)\n",
    "\n",
    "# Remove the y-axis label that says \"predicted_annotation\"\n",
    "clustermap.ax_heatmap.set_ylabel('Cell', fontsize = 12)\n",
    "clustermap.ax_heatmap.set_xlabel('Cell Type Probabilities', fontsize=12)\n",
    "\n",
    "# Minimal padding around elements\n",
    "plt.tight_layout(h_pad = -5, w_pad = -2)\n",
    "plt.show()"
   ]
  },
  {
   "cell_type": "code",
   "execution_count": 312,
   "id": "379cf57c-252f-4bed-b82a-2c771fb32979",
   "metadata": {},
   "outputs": [],
   "source": []
  },
  {
   "cell_type": "code",
   "execution_count": null,
   "id": "975ded0b-940e-4b86-9274-4104f625c520",
   "metadata": {},
   "outputs": [],
   "source": []
  }
 ],
 "metadata": {
  "kernelspec": {
   "display_name": "Python 3 (ipykernel)",
   "language": "python",
   "name": "python3"
  },
  "language_info": {
   "codemirror_mode": {
    "name": "ipython",
    "version": 3
   },
   "file_extension": ".py",
   "mimetype": "text/x-python",
   "name": "python",
   "nbconvert_exporter": "python",
   "pygments_lexer": "ipython3",
   "version": "3.13.2"
  }
 },
 "nbformat": 4,
 "nbformat_minor": 5
}
